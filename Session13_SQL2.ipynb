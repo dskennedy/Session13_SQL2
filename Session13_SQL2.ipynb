{
 "cells": [
  {
   "cell_type": "markdown",
   "metadata": {},
   "source": [
    "1. Create an sqlalchemy engine using a sample from the data set"
   ]
  },
  {
   "cell_type": "code",
   "execution_count": 1,
   "metadata": {},
   "outputs": [],
   "source": [
    "from sqlalchemy import create_engine\n",
    "engine = create_engine('sqlite:///sample', echo=True)"
   ]
  },
  {
   "cell_type": "code",
   "execution_count": 2,
   "metadata": {},
   "outputs": [
    {
     "name": "stdout",
     "output_type": "stream",
     "text": [
      "2019-03-31 14:06:21,137 INFO sqlalchemy.engine.base.Engine SELECT CAST('test plain returns' AS VARCHAR(60)) AS anon_1\n",
      "2019-03-31 14:06:21,139 INFO sqlalchemy.engine.base.Engine ()\n",
      "2019-03-31 14:06:21,140 INFO sqlalchemy.engine.base.Engine SELECT CAST('test unicode returns' AS VARCHAR(60)) AS anon_1\n",
      "2019-03-31 14:06:21,140 INFO sqlalchemy.engine.base.Engine ()\n"
     ]
    }
   ],
   "source": [
    "conn = engine.connect()"
   ]
  },
  {
   "cell_type": "code",
   "execution_count": 5,
   "metadata": {},
   "outputs": [
    {
     "name": "stdout",
     "output_type": "stream",
     "text": [
      "2019-03-31 14:08:22,465 INFO sqlalchemy.engine.base.Engine PRAGMA table_info(\"employee\")\n",
      "2019-03-31 14:08:22,466 INFO sqlalchemy.engine.base.Engine ()\n",
      "2019-03-31 14:08:22,468 INFO sqlalchemy.engine.base.Engine \n",
      "CREATE TABLE employee (\n",
      "\tid INTEGER NOT NULL, \n",
      "\tage INTEGER, \n",
      "\tworkclass VARCHAR, \n",
      "\tfnlwgt INTEGER, \n",
      "\teducation VARCHAR, \n",
      "\teducation_num INTEGER, \n",
      "\tmarital_status VARCHAR, \n",
      "\toccupation VARCHAR, \n",
      "\trelationship VARCHAR, \n",
      "\trasexce VARCHAR, \n",
      "\tsex VARCHAR, \n",
      "\tcapital_gain INTEGER, \n",
      "\tcapital_loss INTEGER, \n",
      "\thours_per_week INTEGER, \n",
      "\tnative_country VARCHAR, \n",
      "\tsalary VARCHAR, \n",
      "\tPRIMARY KEY (id)\n",
      ")\n",
      "\n",
      "\n",
      "2019-03-31 14:08:22,470 INFO sqlalchemy.engine.base.Engine ()\n",
      "2019-03-31 14:08:22,644 INFO sqlalchemy.engine.base.Engine COMMIT\n"
     ]
    }
   ],
   "source": [
    "from sqlalchemy import Table, Column, Integer, String, MetaData, ForeignKey\n",
    "metadata = MetaData()\n",
    "employee = Table('employee', metadata,\n",
    "              Column('id', Integer, primary_key=True),\n",
    "              Column('age', Integer),\n",
    "              Column('workclass', String),\n",
    "              Column('fnlwgt', Integer),\n",
    "              Column('education', String),\n",
    "              Column('education_num', Integer),\n",
    "              Column('marital_status', String),\n",
    "              Column('occupation', String),\n",
    "              Column('relationship', String),\n",
    "              Column('rasexce', String),\n",
    "              Column('sex', String),\n",
    "              Column('capital_gain', Integer),\n",
    "              Column('capital_loss', Integer),\n",
    "              Column('hours_per_week', Integer),\n",
    "              Column('native_country', String),\n",
    "              Column('salary', String),\n",
    ")\n",
    "metadata.create_all(engine)"
   ]
  },
  {
   "cell_type": "code",
   "execution_count": 6,
   "metadata": {},
   "outputs": [
    {
     "name": "stdout",
     "output_type": "stream",
     "text": [
      "2019-03-31 14:08:31,042 INFO sqlalchemy.engine.base.Engine INSERT INTO employee (id, age, workclass, fnlwgt, education, education_num, marital_status, occupation, relationship, rasexce, sex, capital_gain, capital_loss, hours_per_week, native_country, salary) VALUES (?, ?, ?, ?, ?, ?, ?, ?, ?, ?, ?, ?, ?, ?, ?, ?)\n",
      "2019-03-31 14:08:31,043 INFO sqlalchemy.engine.base.Engine (1, 39, 'State-gov', 77516, 'Bachelors', 13, 'Never-married', 'Adm-clerical', 'Not-in-family', 'white', 'Male', 2174, 0, 40, 'united-states', '<=50k')\n",
      "2019-03-31 14:08:31,045 INFO sqlalchemy.engine.base.Engine COMMIT\n",
      "2019-03-31 14:08:31,270 INFO sqlalchemy.engine.base.Engine INSERT INTO employee (id, age, workclass, fnlwgt, education, education_num, marital_status, occupation, relationship, rasexce, sex, capital_gain, capital_loss, hours_per_week, native_country, salary) VALUES (?, ?, ?, ?, ?, ?, ?, ?, ?, ?, ?, ?, ?, ?, ?, ?)\n",
      "2019-03-31 14:08:31,271 INFO sqlalchemy.engine.base.Engine (2, 50, 'Self-emp-not-inc', 83311, 'Bachelors', 13, 'Married-civ-spouse', 'Exec-managerial', 'Husband', 'white', 'Male', 0, 0, 13, 'united-states', '<=50k')\n",
      "2019-03-31 14:08:31,279 INFO sqlalchemy.engine.base.Engine COMMIT\n",
      "2019-03-31 14:08:31,443 INFO sqlalchemy.engine.base.Engine INSERT INTO employee (id, age, workclass, fnlwgt, education, education_num, marital_status, occupation, relationship, rasexce, sex, capital_gain, capital_loss, hours_per_week, native_country, salary) VALUES (?, ?, ?, ?, ?, ?, ?, ?, ?, ?, ?, ?, ?, ?, ?, ?)\n",
      "2019-03-31 14:08:31,445 INFO sqlalchemy.engine.base.Engine (3, 38, 'Private', 215646, 'HS-grad', 9, 'Divorced', 'Handlers-cleaners', 'Not-in-family', 'white', 'Male', 0, 0, 40, 'united-states', '<=50k')\n",
      "2019-03-31 14:08:31,451 INFO sqlalchemy.engine.base.Engine COMMIT\n"
     ]
    },
    {
     "data": {
      "text/plain": [
       "<sqlalchemy.engine.result.ResultProxy at 0x181183c90f0>"
      ]
     },
     "execution_count": 6,
     "metadata": {},
     "output_type": "execute_result"
    }
   ],
   "source": [
    "ins1 = employee.insert().values(id=1, age=39,workclass='State-gov', fnlwgt=77516\n",
    "                               ,education='Bachelors', education_num=13,marital_status='Never-married', occupation='Adm-clerical'\n",
    "                            ,relationship='Not-in-family', rasexce='white',sex='Male', capital_gain=2174\n",
    "                              ,capital_loss=0, hours_per_week=40,native_country='united-states', salary='<=50k'\n",
    "                              )\n",
    "ins2 = employee.insert().values(id=2, age=50,workclass='Self-emp-not-inc', fnlwgt=83311\n",
    "                               ,education='Bachelors', education_num=13,marital_status='Married-civ-spouse', occupation='Exec-managerial'\n",
    "                              ,relationship='Husband', rasexce='white',sex='Male', capital_gain=0\n",
    "                              ,capital_loss=0, hours_per_week=13,native_country='united-states', salary='<=50k'\n",
    "                              )\n",
    "ins3 = employee.insert().values(id=3, age=38,workclass='Private', fnlwgt=215646\n",
    "                               ,education='HS-grad', education_num=9,marital_status='Divorced', occupation='Handlers-cleaners'\n",
    "                              ,relationship='Not-in-family', rasexce='white',sex='Male', capital_gain=0\n",
    "                              ,capital_loss=0, hours_per_week=40,native_country='united-states', salary='<=50k'\n",
    "                              )\n",
    "#str(ins1)\n",
    "#ins1.compile().params  # to view the data to be inserted\n",
    "conn.execute(ins1)\n",
    "conn.execute(ins2)\n",
    "conn.execute(ins3)"
   ]
  },
  {
   "cell_type": "code",
   "execution_count": 7,
   "metadata": {},
   "outputs": [
    {
     "name": "stdout",
     "output_type": "stream",
     "text": [
      "2019-03-31 14:09:04,866 INFO sqlalchemy.engine.base.Engine SELECT employee.id, employee.age, employee.workclass, employee.fnlwgt, employee.education, employee.education_num, employee.marital_status, employee.occupation, employee.relationship, employee.rasexce, employee.sex, employee.capital_gain, employee.capital_loss, employee.hours_per_week, employee.native_country, employee.salary \n",
      "FROM employee\n",
      "2019-03-31 14:09:04,867 INFO sqlalchemy.engine.base.Engine ()\n",
      "[(1, 39, 'State-gov', 77516, 'Bachelors', 13, 'Never-married', 'Adm-clerical', 'Not-in-family', 'white', 'Male', 2174, 0, 40, 'united-states', '<=50k'), (2, 50, 'Self-emp-not-inc', 83311, 'Bachelors', 13, 'Married-civ-spouse', 'Exec-managerial', 'Husband', 'white', 'Male', 0, 0, 13, 'united-states', '<=50k'), (3, 38, 'Private', 215646, 'HS-grad', 9, 'Divorced', 'Handlers-cleaners', 'Not-in-family', 'white', 'Male', 0, 0, 40, 'united-states', '<=50k')]\n"
     ]
    }
   ],
   "source": [
    "from sqlalchemy.sql import select\n",
    "s = select([employee])\n",
    "result = conn.execute(s)\n",
    "row = result.fetchall()\n",
    "print(row)"
   ]
  },
  {
   "cell_type": "markdown",
   "metadata": {},
   "source": [
    "2. Write two basic update queries"
   ]
  },
  {
   "cell_type": "code",
   "execution_count": 8,
   "metadata": {},
   "outputs": [
    {
     "name": "stdout",
     "output_type": "stream",
     "text": [
      "2019-03-31 14:09:38,168 INFO sqlalchemy.engine.base.Engine UPDATE employee SET age=? WHERE employee.id = ?\n",
      "2019-03-31 14:09:38,170 INFO sqlalchemy.engine.base.Engine (49, 1)\n",
      "2019-03-31 14:09:38,172 INFO sqlalchemy.engine.base.Engine COMMIT\n",
      "2019-03-31 14:09:38,389 INFO sqlalchemy.engine.base.Engine UPDATE employee SET marital_status=? WHERE employee.id = ?\n",
      "2019-03-31 14:09:38,391 INFO sqlalchemy.engine.base.Engine ('Married', 1)\n",
      "2019-03-31 14:09:38,396 INFO sqlalchemy.engine.base.Engine COMMIT\n"
     ]
    },
    {
     "data": {
      "text/plain": [
       "<sqlalchemy.engine.result.ResultProxy at 0x181183856a0>"
      ]
     },
     "execution_count": 8,
     "metadata": {},
     "output_type": "execute_result"
    }
   ],
   "source": [
    "from sqlalchemy import update\n",
    "\n",
    "stmt = update(employee).where(employee.c.id==1).values(age=49)\n",
    "stmt1 = update(employee).where(employee.c.id==1).values(marital_status='Married')\n",
    "conn.execute(stmt)\n",
    "conn.execute(stmt1)"
   ]
  },
  {
   "cell_type": "code",
   "execution_count": 9,
   "metadata": {},
   "outputs": [
    {
     "name": "stdout",
     "output_type": "stream",
     "text": [
      "2019-03-31 14:09:57,651 INFO sqlalchemy.engine.base.Engine SELECT employee.id, employee.age, employee.workclass, employee.fnlwgt, employee.education, employee.education_num, employee.marital_status, employee.occupation, employee.relationship, employee.rasexce, employee.sex, employee.capital_gain, employee.capital_loss, employee.hours_per_week, employee.native_country, employee.salary \n",
      "FROM employee\n",
      "2019-03-31 14:09:57,652 INFO sqlalchemy.engine.base.Engine ()\n",
      "[(1, 49, 'State-gov', 77516, 'Bachelors', 13, 'Married', 'Adm-clerical', 'Not-in-family', 'white', 'Male', 2174, 0, 40, 'united-states', '<=50k'), (2, 50, 'Self-emp-not-inc', 83311, 'Bachelors', 13, 'Married-civ-spouse', 'Exec-managerial', 'Husband', 'white', 'Male', 0, 0, 13, 'united-states', '<=50k'), (3, 38, 'Private', 215646, 'HS-grad', 9, 'Divorced', 'Handlers-cleaners', 'Not-in-family', 'white', 'Male', 0, 0, 40, 'united-states', '<=50k')]\n"
     ]
    }
   ],
   "source": [
    "s = select([employee])\n",
    "result = conn.execute(s)\n",
    "row = result.fetchall()\n",
    "print(row)"
   ]
  },
  {
   "cell_type": "markdown",
   "metadata": {},
   "source": [
    "3. Write two delete queries"
   ]
  },
  {
   "cell_type": "code",
   "execution_count": 10,
   "metadata": {},
   "outputs": [
    {
     "name": "stdout",
     "output_type": "stream",
     "text": [
      "2019-03-31 14:10:28,656 INFO sqlalchemy.engine.base.Engine DELETE FROM employee WHERE employee.id = ?\n",
      "2019-03-31 14:10:28,657 INFO sqlalchemy.engine.base.Engine (1,)\n",
      "2019-03-31 14:10:28,659 INFO sqlalchemy.engine.base.Engine COMMIT\n",
      "2019-03-31 14:10:28,869 INFO sqlalchemy.engine.base.Engine DELETE FROM employee WHERE employee.id = ?\n",
      "2019-03-31 14:10:28,871 INFO sqlalchemy.engine.base.Engine (2,)\n",
      "2019-03-31 14:10:28,875 INFO sqlalchemy.engine.base.Engine COMMIT\n"
     ]
    },
    {
     "data": {
      "text/plain": [
       "<sqlalchemy.engine.result.ResultProxy at 0x181183b6710>"
      ]
     },
     "execution_count": 10,
     "metadata": {},
     "output_type": "execute_result"
    }
   ],
   "source": [
    "stmt1=employee.delete().where(employee.c.id==1)\n",
    "stmt2=employee.delete().where(employee.c.id==2 and employee.c.sex=='Male')\n",
    "conn.execute(stmt1)\n",
    "conn.execute(stmt2)"
   ]
  },
  {
   "cell_type": "code",
   "execution_count": 11,
   "metadata": {},
   "outputs": [
    {
     "name": "stdout",
     "output_type": "stream",
     "text": [
      "2019-03-31 14:10:43,963 INFO sqlalchemy.engine.base.Engine SELECT employee.id, employee.age, employee.workclass, employee.fnlwgt, employee.education, employee.education_num, employee.marital_status, employee.occupation, employee.relationship, employee.rasexce, employee.sex, employee.capital_gain, employee.capital_loss, employee.hours_per_week, employee.native_country, employee.salary \n",
      "FROM employee\n",
      "2019-03-31 14:10:43,964 INFO sqlalchemy.engine.base.Engine ()\n",
      "[(3, 38, 'Private', 215646, 'HS-grad', 9, 'Divorced', 'Handlers-cleaners', 'Not-in-family', 'white', 'Male', 0, 0, 40, 'united-states', '<=50k')]\n"
     ]
    }
   ],
   "source": [
    "s = select([employee])\n",
    "result = conn.execute(s)\n",
    "row = result.fetchall()\n",
    "print(row)"
   ]
  },
  {
   "cell_type": "markdown",
   "metadata": {},
   "source": [
    "4. Write two filter queries"
   ]
  },
  {
   "cell_type": "code",
   "execution_count": 12,
   "metadata": {},
   "outputs": [],
   "source": [
    "from sqlalchemy.orm import sessionmaker\n",
    "Session = sessionmaker(bind=engine)\n",
    "session = Session()"
   ]
  },
  {
   "cell_type": "code",
   "execution_count": 13,
   "metadata": {},
   "outputs": [
    {
     "name": "stdout",
     "output_type": "stream",
     "text": [
      "2019-03-31 14:11:27,011 INFO sqlalchemy.engine.base.Engine BEGIN (implicit)\n",
      "2019-03-31 14:11:27,013 INFO sqlalchemy.engine.base.Engine SELECT employee.id AS employee_id, employee.age AS employee_age, employee.workclass AS employee_workclass, employee.fnlwgt AS employee_fnlwgt, employee.education AS employee_education, employee.education_num AS employee_education_num, employee.marital_status AS employee_marital_status, employee.occupation AS employee_occupation, employee.relationship AS employee_relationship, employee.rasexce AS employee_rasexce, employee.sex AS employee_sex, employee.capital_gain AS employee_capital_gain, employee.capital_loss AS employee_capital_loss, employee.hours_per_week AS employee_hours_per_week, employee.native_country AS employee_native_country, employee.salary AS employee_salary \n",
      "FROM employee \n",
      "WHERE employee.id = ?\n",
      " LIMIT ? OFFSET ?\n",
      "2019-03-31 14:11:27,014 INFO sqlalchemy.engine.base.Engine ('Male', 1, 0)\n",
      "2019-03-31 14:11:27,018 INFO sqlalchemy.engine.base.Engine SELECT employee.id AS employee_id, employee.age AS employee_age, employee.workclass AS employee_workclass, employee.fnlwgt AS employee_fnlwgt, employee.education AS employee_education, employee.education_num AS employee_education_num, employee.marital_status AS employee_marital_status, employee.occupation AS employee_occupation, employee.relationship AS employee_relationship, employee.rasexce AS employee_rasexce, employee.sex AS employee_sex, employee.capital_gain AS employee_capital_gain, employee.capital_loss AS employee_capital_loss, employee.hours_per_week AS employee_hours_per_week, employee.native_country AS employee_native_country, employee.salary AS employee_salary \n",
      "FROM employee \n",
      "WHERE employee.hours_per_week = ?\n",
      " LIMIT ? OFFSET ?\n",
      "2019-03-31 14:11:27,018 INFO sqlalchemy.engine.base.Engine (45, 1, 0)\n"
     ]
    }
   ],
   "source": [
    "stmt1= session.query(employee).filter(employee.c.id=='Male').first()\n",
    "stmt2= session.query(employee).filter(employee.c.hours_per_week==45).first()"
   ]
  },
  {
   "cell_type": "markdown",
   "metadata": {},
   "source": [
    "5. Write two function queries"
   ]
  },
  {
   "cell_type": "code",
   "execution_count": 14,
   "metadata": {},
   "outputs": [
    {
     "name": "stdout",
     "output_type": "stream",
     "text": [
      "2019-03-31 14:13:06,986 INFO sqlalchemy.engine.base.Engine SELECT count(?) AS count_1 \n",
      "FROM employee\n",
      "2019-03-31 14:13:06,987 INFO sqlalchemy.engine.base.Engine ('*',)\n",
      "2019-03-31 14:13:06,990 INFO sqlalchemy.engine.base.Engine SELECT count(employee.id) AS count_1 \n",
      "FROM employee\n",
      "2019-03-31 14:13:06,991 INFO sqlalchemy.engine.base.Engine ()\n",
      "1\n",
      "1\n"
     ]
    }
   ],
   "source": [
    "from sqlalchemy import func\n",
    "stmt1 = session.query(func.count('*')).select_from(employee).scalar()\n",
    "stmt2 = session.query(func.count(employee.c.id)).scalar()\n",
    "print(stmt1)\n",
    "print(stmt2)"
   ]
  }
 ],
 "metadata": {
  "kernelspec": {
   "display_name": "Python 3",
   "language": "python",
   "name": "python3"
  },
  "language_info": {
   "codemirror_mode": {
    "name": "ipython",
    "version": 3
   },
   "file_extension": ".py",
   "mimetype": "text/x-python",
   "name": "python",
   "nbconvert_exporter": "python",
   "pygments_lexer": "ipython3",
   "version": "3.7.0"
  }
 },
 "nbformat": 4,
 "nbformat_minor": 2
}
